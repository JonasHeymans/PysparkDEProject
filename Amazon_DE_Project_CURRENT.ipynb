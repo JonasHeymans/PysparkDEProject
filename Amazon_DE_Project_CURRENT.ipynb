{
 "cells": [
  {
   "cell_type": "markdown",
   "metadata": {},
   "source": [
    "Step 1: Importing + Reading data"
   ]
  },
  {
   "cell_type": "code",
   "execution_count": 1,
   "metadata": {},
   "outputs": [],
   "source": [
    "import json\n",
    "import re\n",
    "from collections import Counter\n",
    "import numpy as np\n",
    "import pyspark\n",
    "import os\n",
    "from datetime import datetime\n",
    "from functools import partial\n",
    "\n",
    "from pyspark.sql.functions import year\n",
    "from pyspark.sql.functions import month\n",
    "from pyspark.sql.functions import dayofmonth\n",
    "\n",
    "\n",
    "from pyspark import SparkContext, SparkConf\n",
    "from pyspark.sql import SparkSession\n",
    "conf = pyspark.SparkConf().setAppName('appName').setMaster('local')\n",
    "sc = pyspark.SparkContext(conf=conf)\n",
    "spark = SparkSession(sc)\n",
    "from pyspark.sql import functions as F\n",
    "\n",
    "import webbrowser\n",
    "import mysql.connector"
   ]
  },
  {
   "cell_type": "code",
   "execution_count": null,
   "metadata": {},
   "outputs": [],
   "source": []
  },
  {
   "cell_type": "code",
   "execution_count": 2,
   "metadata": {},
   "outputs": [],
   "source": [
    "index2reviews_column = {\n",
    "    6: 'product_category',\n",
    "    1: 'customer_id',\n",
    "    14: 'review_date',\n",
    "    7: 'star_rating'   \n",
    "}\n",
    "amazon_data = sc.textFile(\"amazon/amazon_reviews_multilingual_US_v1_00.tsv\")\n",
    "tab_split_func = lambda input_line : input_line.split(\"\\t\")"
   ]
  },
  {
   "cell_type": "code",
   "execution_count": 3,
   "metadata": {},
   "outputs": [],
   "source": [
    "amazon_split_rdd = amazon_data.map(tab_split_func)"
   ]
  },
  {
   "cell_type": "code",
   "execution_count": 4,
   "metadata": {},
   "outputs": [
    {
     "data": {
      "text/plain": [
       "'check'"
      ]
     },
     "execution_count": 4,
     "metadata": {},
     "output_type": "execute_result"
    }
   ],
   "source": [
    "\"check\"\n",
    "#amazon_data.take(2)"
   ]
  },
  {
   "cell_type": "code",
   "execution_count": 5,
   "metadata": {},
   "outputs": [
    {
     "data": {
      "text/plain": [
       "'check'"
      ]
     },
     "execution_count": 5,
     "metadata": {},
     "output_type": "execute_result"
    }
   ],
   "source": [
    "\"check\"\n",
    "#amazon_split_rdd.take(2)"
   ]
  },
  {
   "cell_type": "markdown",
   "metadata": {},
   "source": []
  },
  {
   "cell_type": "code",
   "execution_count": 6,
   "metadata": {},
   "outputs": [],
   "source": [
    "def transform_to_json(record, index2column):\n",
    "    return_value = dict()\n",
    "    for index, column_name in index2column.items():\n",
    "        return_value[column_name] = record[index]\n",
    "    return return_value\n",
    "\n",
    "amazon_json_rdd = amazon_split_rdd.map(partial(transform_to_json, index2column=index2reviews_column))"
   ]
  },
  {
   "cell_type": "code",
   "execution_count": 7,
   "metadata": {},
   "outputs": [
    {
     "data": {
      "text/plain": [
       "'check'"
      ]
     },
     "execution_count": 7,
     "metadata": {},
     "output_type": "execute_result"
    }
   ],
   "source": [
    "\"check\"\n",
    "#amazon_json_rdd.take(2)"
   ]
  },
  {
   "cell_type": "code",
   "execution_count": 8,
   "metadata": {},
   "outputs": [
    {
     "data": {
      "text/plain": [
       "'checks'"
      ]
     },
     "execution_count": 8,
     "metadata": {},
     "output_type": "execute_result"
    }
   ],
   "source": [
    "\"checks\"\n",
    "#amazon_json_rdd.cache()\n",
    "#amazon_json_rdd.zipWithIndex()\n",
    "#amazon_json_rdd.take(2)"
   ]
  },
  {
   "cell_type": "code",
   "execution_count": 9,
   "metadata": {},
   "outputs": [
    {
     "data": {
      "text/plain": [
       "'ignore'"
      ]
     },
     "execution_count": 9,
     "metadata": {},
     "output_type": "execute_result"
    }
   ],
   "source": [
    "\"ignore\"\n",
    "#amazon_filter_json_rdd = amazon_json_rdd.filter(_._2 is not 0)"
   ]
  },
  {
   "cell_type": "code",
   "execution_count": 10,
   "metadata": {},
   "outputs": [],
   "source": [
    "#def extract_month(dtstr):\n",
    " #   format_string = dtstr.split(\"-\")\n",
    "  #  dt = format_string[1]\n",
    "   # return dt\n",
    "\n",
    "#def extract_year(dtstr):\n",
    " #   format_string = dtstr.split(\"-\")\n",
    "    #dt = format_string[0]\n",
    "    #return dt\n",
    "\n",
    "def extract_yearmonth(dtstr):\n",
    "    format_string = dtstr.split(\"-\")\n",
    "    dt =  format_string[0]+ \"-\" +format_string[1]\n",
    "    return dt\n",
    "\n",
    "def convert_dtstr_dt(dtstr):\n",
    "    format_string = \"%Y-%m-%d\"\n",
    "    dt = datetime.strptime(dtstr, format_string)\n",
    "    return dt\n",
    "\n",
    "\n",
    "\n",
    "type_converters = {\n",
    "#might need further additions\n",
    "    \"review_date\" : extract_yearmonth\n",
    "}\n",
    "\n",
    "\n",
    "def convert_types(record, converters):\n",
    "    for col_name, convert_func in converters.items():\n",
    "        record[col_name] = convert_func(record[col_name])\n",
    "    return record"
   ]
  },
  {
   "cell_type": "code",
   "execution_count": 11,
   "metadata": {},
   "outputs": [],
   "source": [
    "assert convert_dtstr_dt(\"2020-03-10\") == datetime(2020, 3, 10)"
   ]
  },
  {
   "cell_type": "code",
   "execution_count": 12,
   "metadata": {},
   "outputs": [],
   "source": [
    "assert extract_yearmonth(\"2020-03-12\") == \"2020-03\""
   ]
  },
  {
   "cell_type": "code",
   "execution_count": 13,
   "metadata": {},
   "outputs": [
    {
     "data": {
      "text/plain": [
       "'ignore'"
      ]
     },
     "execution_count": 13,
     "metadata": {},
     "output_type": "execute_result"
    }
   ],
   "source": [
    "\"ignore\"\n",
    "#6931167"
   ]
  },
  {
   "cell_type": "code",
   "execution_count": 14,
   "metadata": {},
   "outputs": [],
   "source": [
    "amazon_convert_prep_rdd = amazon_json_rdd.filter(lambda js : not js[\"customer_id\"] == \"customer_id\")"
   ]
  },
  {
   "cell_type": "code",
   "execution_count": 15,
   "metadata": {},
   "outputs": [
    {
     "data": {
      "text/plain": [
       "[{'product_category': 'Books',\n",
       "  'customer_id': '53096384',\n",
       "  'review_date': '1995-08-13',\n",
       "  'star_rating': '4'},\n",
       " {'product_category': 'Books',\n",
       "  'customer_id': '53096399',\n",
       "  'review_date': '1995-08-17',\n",
       "  'star_rating': '4'}]"
      ]
     },
     "execution_count": 15,
     "metadata": {},
     "output_type": "execute_result"
    }
   ],
   "source": [
    "amazon_convert_prep_rdd.take(2)"
   ]
  },
  {
   "cell_type": "code",
   "execution_count": 16,
   "metadata": {},
   "outputs": [],
   "source": [
    "amazon_converted_rdd = amazon_convert_prep_rdd.map(partial(convert_types, converters=type_converters))"
   ]
  },
  {
   "cell_type": "code",
   "execution_count": 17,
   "metadata": {},
   "outputs": [
    {
     "data": {
      "text/plain": [
       "[{'product_category': 'Books',\n",
       "  'customer_id': '53096384',\n",
       "  'review_date': '1995-08',\n",
       "  'star_rating': '4'}]"
      ]
     },
     "execution_count": 17,
     "metadata": {},
     "output_type": "execute_result"
    }
   ],
   "source": [
    "\"check\"\n",
    "amazon_converted_rdd.take(1)"
   ]
  },
  {
   "cell_type": "code",
   "execution_count": 18,
   "metadata": {},
   "outputs": [
    {
     "data": {
      "text/plain": [
       "6931166"
      ]
     },
     "execution_count": 18,
     "metadata": {},
     "output_type": "execute_result"
    }
   ],
   "source": [
    "\"check\"\n",
    "amazon_converted_rdd.count()"
   ]
  },
  {
   "cell_type": "code",
   "execution_count": 19,
   "metadata": {},
   "outputs": [
    {
     "data": {
      "text/plain": [
       "[('Books', 838801),\n",
       " ('Toys', 57777),\n",
       " ('Pet Products', 5),\n",
       " ('Home Improvement', 3731),\n",
       " ('Grocery', 18)]"
      ]
     },
     "execution_count": 19,
     "metadata": {},
     "output_type": "execute_result"
    }
   ],
   "source": [
    "unique_review_product_category_count =  amazon_converted_rdd.map(lambda json_record: (json_record[\"product_category\"],1)).reduceByKey(lambda x, y: x+y)\n",
    "unique_review_product_category_count.take(5)"
   ]
  },
  {
   "cell_type": "code",
   "execution_count": 20,
   "metadata": {},
   "outputs": [],
   "source": [
    "unique_review_per_product_category_rdd =  amazon_converted_rdd.map(lambda json_record: (json_record[\"product_category\"],json_record))"
   ]
  },
  {
   "cell_type": "code",
   "execution_count": 21,
   "metadata": {},
   "outputs": [],
   "source": [
    "joined_rdd = unique_review_per_product_category_rdd.join(unique_review_product_category_count)"
   ]
  },
  {
   "cell_type": "code",
   "execution_count": 22,
   "metadata": {},
   "outputs": [
    {
     "data": {
      "text/plain": [
       "[('Books',\n",
       "  {'product_category': 'Books',\n",
       "   'customer_id': '53096384',\n",
       "   'review_date': '1995-08',\n",
       "   'star_rating': '4'}),\n",
       " ('Books',\n",
       "  {'product_category': 'Books',\n",
       "   'customer_id': '53096399',\n",
       "   'review_date': '1995-08',\n",
       "   'star_rating': '4'}),\n",
       " ('Books',\n",
       "  {'product_category': 'Books',\n",
       "   'customer_id': '53096332',\n",
       "   'review_date': '1995-08',\n",
       "   'star_rating': '5'})]"
      ]
     },
     "execution_count": 22,
     "metadata": {},
     "output_type": "execute_result"
    }
   ],
   "source": [
    "unique_review_per_product_category_rdd.take(3)"
   ]
  },
  {
   "cell_type": "code",
   "execution_count": 23,
   "metadata": {},
   "outputs": [
    {
     "data": {
      "text/plain": [
       "[('Pet Products',\n",
       "  ({'product_category': 'Pet Products',\n",
       "    'customer_id': '18197812',\n",
       "    'review_date': '2014-09',\n",
       "    'star_rating': '5'},\n",
       "   5)),\n",
       " ('Pet Products',\n",
       "  ({'product_category': 'Pet Products',\n",
       "    'customer_id': '29425839',\n",
       "    'review_date': '2015-01',\n",
       "    'star_rating': '5'},\n",
       "   5)),\n",
       " ('Pet Products',\n",
       "  ({'product_category': 'Pet Products',\n",
       "    'customer_id': '37551413',\n",
       "    'review_date': '2015-01',\n",
       "    'star_rating': '4'},\n",
       "   5))]"
      ]
     },
     "execution_count": 23,
     "metadata": {},
     "output_type": "execute_result"
    }
   ],
   "source": [
    "joined_rdd.take(3)"
   ]
  },
  {
   "cell_type": "code",
   "execution_count": 24,
   "metadata": {},
   "outputs": [],
   "source": [
    "def add_reviews(tpl):\n",
    "    product_category, (review_record, number_of_reviews) = tpl\n",
    "    review_record[\"reviews\"] = number_of_reviews\n",
    "    return review_record"
   ]
  },
  {
   "cell_type": "code",
   "execution_count": 25,
   "metadata": {},
   "outputs": [],
   "source": [
    "reviews_rdd = joined_rdd.map(add_reviews)"
   ]
  },
  {
   "cell_type": "code",
   "execution_count": 26,
   "metadata": {},
   "outputs": [
    {
     "data": {
      "text/plain": [
       "[{'product_category': 'Pet Products',\n",
       "  'customer_id': '18197812',\n",
       "  'review_date': '2014-09',\n",
       "  'star_rating': '5',\n",
       "  'reviews': 5},\n",
       " {'product_category': 'Pet Products',\n",
       "  'customer_id': '29425839',\n",
       "  'review_date': '2015-01',\n",
       "  'star_rating': '5',\n",
       "  'reviews': 5},\n",
       " {'product_category': 'Pet Products',\n",
       "  'customer_id': '37551413',\n",
       "  'review_date': '2015-01',\n",
       "  'star_rating': '4',\n",
       "  'reviews': 5},\n",
       " {'product_category': 'Pet Products',\n",
       "  'customer_id': '813252',\n",
       "  'review_date': '2015-02',\n",
       "  'star_rating': '3',\n",
       "  'reviews': 5},\n",
       " {'product_category': 'Pet Products',\n",
       "  'customer_id': '41598274',\n",
       "  'review_date': '2015-08',\n",
       "  'star_rating': '4',\n",
       "  'reviews': 5}]"
      ]
     },
     "execution_count": 26,
     "metadata": {},
     "output_type": "execute_result"
    }
   ],
   "source": [
    "reviews_rdd.take(5)"
   ]
  },
  {
   "cell_type": "code",
   "execution_count": null,
   "metadata": {},
   "outputs": [],
   "source": []
  },
  {
   "cell_type": "code",
   "execution_count": null,
   "metadata": {},
   "outputs": [],
   "source": []
  },
  {
   "cell_type": "code",
   "execution_count": null,
   "metadata": {},
   "outputs": [],
   "source": []
  }
 ],
 "metadata": {
  "kernelspec": {
   "display_name": "Python 3",
   "language": "python",
   "name": "python3"
  },
  "language_info": {
   "codemirror_mode": {
    "name": "ipython",
    "version": 3
   },
   "file_extension": ".py",
   "mimetype": "text/x-python",
   "name": "python",
   "nbconvert_exporter": "python",
   "pygments_lexer": "ipython3",
   "version": "3.6.9"
  }
 },
 "nbformat": 4,
 "nbformat_minor": 4
}
